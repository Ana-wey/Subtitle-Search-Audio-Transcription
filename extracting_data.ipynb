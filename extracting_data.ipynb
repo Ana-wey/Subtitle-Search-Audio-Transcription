{
 "cells": [
  {
   "cell_type": "code",
   "execution_count": 1,
   "id": "beded8f3",
   "metadata": {},
   "outputs": [],
   "source": [
    "# importing libraries\n",
    "import sqlite3\n",
    "import pandas as pd"
   ]
  },
  {
   "cell_type": "code",
   "execution_count": 2,
   "id": "078e6b69",
   "metadata": {},
   "outputs": [
    {
     "name": "stdout",
     "output_type": "stream",
     "text": [
      "[('zipfiles',)]\n"
     ]
    }
   ],
   "source": [
    "#Establishes a connection to the SQLite database file.\n",
    "conn = sqlite3.connect('C:\\\\Users\\\\MSI\\\\Desktop\\\\eng_subtitles_database.db')\n",
    "cursor = conn.cursor()\n",
    "#Runs SQL commands to create tables or insert data (only needed if you're setting up the database).\n",
    "cursor.execute(\"SELECT name FROM sqlite_master WHERE type='table'\")\n",
    "print(cursor.fetchall())"
   ]
  },
  {
   "cell_type": "code",
   "execution_count": 3,
   "id": "7784e9cd",
   "metadata": {},
   "outputs": [
    {
     "name": "stdout",
     "output_type": "stream",
     "text": [
      "num\n",
      "name\n",
      "content\n"
     ]
    }
   ],
   "source": [
    "cursor.execute(\"PRAGMA table_info('zipfiles')\")\n",
    "cols = cursor.fetchall()\n",
    "for col in cols:\n",
    "    print(col[1])"
   ]
  },
  {
   "cell_type": "code",
   "execution_count": 4,
   "id": "ca9c3f9a",
   "metadata": {},
   "outputs": [
    {
     "data": {
      "text/html": [
       "<div>\n",
       "<style scoped>\n",
       "    .dataframe tbody tr th:only-of-type {\n",
       "        vertical-align: middle;\n",
       "    }\n",
       "\n",
       "    .dataframe tbody tr th {\n",
       "        vertical-align: top;\n",
       "    }\n",
       "\n",
       "    .dataframe thead th {\n",
       "        text-align: right;\n",
       "    }\n",
       "</style>\n",
       "<table border=\"1\" class=\"dataframe\">\n",
       "  <thead>\n",
       "    <tr style=\"text-align: right;\">\n",
       "      <th></th>\n",
       "      <th>num</th>\n",
       "      <th>name</th>\n",
       "      <th>content</th>\n",
       "    </tr>\n",
       "  </thead>\n",
       "  <tbody>\n",
       "    <tr>\n",
       "      <th>0</th>\n",
       "      <td>9180533</td>\n",
       "      <td>the.message.(1976).eng.1cd</td>\n",
       "      <td>b'PK\\x03\\x04\\x14\\x00\\x00\\x00\\x08\\x00\\x1c\\xa9\\x...</td>\n",
       "    </tr>\n",
       "    <tr>\n",
       "      <th>1</th>\n",
       "      <td>9180583</td>\n",
       "      <td>here.comes.the.grump.s01.e09.joltin.jack.in.bo...</td>\n",
       "      <td>b'PK\\x03\\x04\\x14\\x00\\x00\\x00\\x08\\x00\\x17\\xb9\\x...</td>\n",
       "    </tr>\n",
       "    <tr>\n",
       "      <th>2</th>\n",
       "      <td>9180592</td>\n",
       "      <td>yumis.cells.s02.e13.episode.2.13.(2022).eng.1cd</td>\n",
       "      <td>b'PK\\x03\\x04\\x14\\x00\\x00\\x00\\x08\\x00L\\xb9\\x99V...</td>\n",
       "    </tr>\n",
       "    <tr>\n",
       "      <th>3</th>\n",
       "      <td>9180594</td>\n",
       "      <td>yumis.cells.s02.e14.episode.2.14.(2022).eng.1cd</td>\n",
       "      <td>b'PK\\x03\\x04\\x14\\x00\\x00\\x00\\x08\\x00U\\xa9\\x99V...</td>\n",
       "    </tr>\n",
       "    <tr>\n",
       "      <th>4</th>\n",
       "      <td>9180600</td>\n",
       "      <td>broker.(2022).eng.1cd</td>\n",
       "      <td>b'PK\\x03\\x04\\x14\\x00\\x00\\x00\\x08\\x001\\xa9\\x99V...</td>\n",
       "    </tr>\n",
       "  </tbody>\n",
       "</table>\n",
       "</div>"
      ],
      "text/plain": [
       "       num                                               name  \\\n",
       "0  9180533                         the.message.(1976).eng.1cd   \n",
       "1  9180583  here.comes.the.grump.s01.e09.joltin.jack.in.bo...   \n",
       "2  9180592    yumis.cells.s02.e13.episode.2.13.(2022).eng.1cd   \n",
       "3  9180594    yumis.cells.s02.e14.episode.2.14.(2022).eng.1cd   \n",
       "4  9180600                              broker.(2022).eng.1cd   \n",
       "\n",
       "                                             content  \n",
       "0  b'PK\\x03\\x04\\x14\\x00\\x00\\x00\\x08\\x00\\x1c\\xa9\\x...  \n",
       "1  b'PK\\x03\\x04\\x14\\x00\\x00\\x00\\x08\\x00\\x17\\xb9\\x...  \n",
       "2  b'PK\\x03\\x04\\x14\\x00\\x00\\x00\\x08\\x00L\\xb9\\x99V...  \n",
       "3  b'PK\\x03\\x04\\x14\\x00\\x00\\x00\\x08\\x00U\\xa9\\x99V...  \n",
       "4  b'PK\\x03\\x04\\x14\\x00\\x00\\x00\\x08\\x001\\xa9\\x99V...  "
      ]
     },
     "execution_count": 4,
     "metadata": {},
     "output_type": "execute_result"
    }
   ],
   "source": [
    "df = pd.read_sql_query(\"\"\"SELECT * FROM zipfiles\"\"\", conn)\n",
    "df.head()"
   ]
  },
  {
   "cell_type": "code",
   "execution_count": 5,
   "id": "14158255",
   "metadata": {},
   "outputs": [],
   "source": [
    "import zipfile\n",
    "import io\n",
    "\n",
    "count = 0\n",
    "\n",
    "def decode_method(binary_data):\n",
    "    global count\n",
    "    # Decompress the binary data using the zipfile module\n",
    "    # print(count, end=\" \")\n",
    "    count += 1\n",
    "    with io.BytesIO(binary_data) as f:\n",
    "        with zipfile.ZipFile(f, 'r') as zip_file:\n",
    "            # Assuming there's only one file in the ZIP archive\n",
    "            subtitle_content = zip_file.read(zip_file.namelist()[0])\n",
    "    \n",
    "    # Now 'subtitle_content' should contain the extracted subtitle content\n",
    "    return subtitle_content.decode('latin-1')  # Assuming the content is UTF-8 encoded text"
   ]
  },
  {
   "cell_type": "code",
   "execution_count": 6,
   "id": "c12e6f5c",
   "metadata": {},
   "outputs": [
    {
     "data": {
      "text/html": [
       "<div>\n",
       "<style scoped>\n",
       "    .dataframe tbody tr th:only-of-type {\n",
       "        vertical-align: middle;\n",
       "    }\n",
       "\n",
       "    .dataframe tbody tr th {\n",
       "        vertical-align: top;\n",
       "    }\n",
       "\n",
       "    .dataframe thead th {\n",
       "        text-align: right;\n",
       "    }\n",
       "</style>\n",
       "<table border=\"1\" class=\"dataframe\">\n",
       "  <thead>\n",
       "    <tr style=\"text-align: right;\">\n",
       "      <th></th>\n",
       "      <th>num</th>\n",
       "      <th>name</th>\n",
       "      <th>content</th>\n",
       "      <th>file_content</th>\n",
       "    </tr>\n",
       "  </thead>\n",
       "  <tbody>\n",
       "    <tr>\n",
       "      <th>0</th>\n",
       "      <td>9180533</td>\n",
       "      <td>the.message.(1976).eng.1cd</td>\n",
       "      <td>b'PK\\x03\\x04\\x14\\x00\\x00\\x00\\x08\\x00\\x1c\\xa9\\x...</td>\n",
       "      <td>1\\r\\n00:00:06,000 --&gt; 00:00:12,074\\r\\nWatch an...</td>\n",
       "    </tr>\n",
       "    <tr>\n",
       "      <th>1</th>\n",
       "      <td>9180583</td>\n",
       "      <td>here.comes.the.grump.s01.e09.joltin.jack.in.bo...</td>\n",
       "      <td>b'PK\\x03\\x04\\x14\\x00\\x00\\x00\\x08\\x00\\x17\\xb9\\x...</td>\n",
       "      <td>1\\r\\n00:00:29,359 --&gt; 00:00:32,048\\r\\nAh! Ther...</td>\n",
       "    </tr>\n",
       "    <tr>\n",
       "      <th>2</th>\n",
       "      <td>9180592</td>\n",
       "      <td>yumis.cells.s02.e13.episode.2.13.(2022).eng.1cd</td>\n",
       "      <td>b'PK\\x03\\x04\\x14\\x00\\x00\\x00\\x08\\x00L\\xb9\\x99V...</td>\n",
       "      <td>1\\r\\n00:00:53,200 --&gt; 00:00:56,030\\r\\n&lt;i&gt;Yumi'...</td>\n",
       "    </tr>\n",
       "    <tr>\n",
       "      <th>3</th>\n",
       "      <td>9180594</td>\n",
       "      <td>yumis.cells.s02.e14.episode.2.14.(2022).eng.1cd</td>\n",
       "      <td>b'PK\\x03\\x04\\x14\\x00\\x00\\x00\\x08\\x00U\\xa9\\x99V...</td>\n",
       "      <td>1\\r\\n00:00:06,000 --&gt; 00:00:12,074\\r\\nWatch an...</td>\n",
       "    </tr>\n",
       "    <tr>\n",
       "      <th>4</th>\n",
       "      <td>9180600</td>\n",
       "      <td>broker.(2022).eng.1cd</td>\n",
       "      <td>b'PK\\x03\\x04\\x14\\x00\\x00\\x00\\x08\\x001\\xa9\\x99V...</td>\n",
       "      <td>ï»¿1\\r\\n00:00:06,000 --&gt; 00:00:12,074\\r\\nWatch...</td>\n",
       "    </tr>\n",
       "  </tbody>\n",
       "</table>\n",
       "</div>"
      ],
      "text/plain": [
       "       num                                               name  \\\n",
       "0  9180533                         the.message.(1976).eng.1cd   \n",
       "1  9180583  here.comes.the.grump.s01.e09.joltin.jack.in.bo...   \n",
       "2  9180592    yumis.cells.s02.e13.episode.2.13.(2022).eng.1cd   \n",
       "3  9180594    yumis.cells.s02.e14.episode.2.14.(2022).eng.1cd   \n",
       "4  9180600                              broker.(2022).eng.1cd   \n",
       "\n",
       "                                             content  \\\n",
       "0  b'PK\\x03\\x04\\x14\\x00\\x00\\x00\\x08\\x00\\x1c\\xa9\\x...   \n",
       "1  b'PK\\x03\\x04\\x14\\x00\\x00\\x00\\x08\\x00\\x17\\xb9\\x...   \n",
       "2  b'PK\\x03\\x04\\x14\\x00\\x00\\x00\\x08\\x00L\\xb9\\x99V...   \n",
       "3  b'PK\\x03\\x04\\x14\\x00\\x00\\x00\\x08\\x00U\\xa9\\x99V...   \n",
       "4  b'PK\\x03\\x04\\x14\\x00\\x00\\x00\\x08\\x001\\xa9\\x99V...   \n",
       "\n",
       "                                        file_content  \n",
       "0  1\\r\\n00:00:06,000 --> 00:00:12,074\\r\\nWatch an...  \n",
       "1  1\\r\\n00:00:29,359 --> 00:00:32,048\\r\\nAh! Ther...  \n",
       "2  1\\r\\n00:00:53,200 --> 00:00:56,030\\r\\n<i>Yumi'...  \n",
       "3  1\\r\\n00:00:06,000 --> 00:00:12,074\\r\\nWatch an...  \n",
       "4  ï»¿1\\r\\n00:00:06,000 --> 00:00:12,074\\r\\nWatch...  "
      ]
     },
     "execution_count": 6,
     "metadata": {},
     "output_type": "execute_result"
    }
   ],
   "source": [
    "df['file_content'] = df['content'].apply(decode_method)\n",
    "\n",
    "df.head()"
   ]
  },
  {
   "cell_type": "code",
   "execution_count": 7,
   "id": "c4ece4a8",
   "metadata": {},
   "outputs": [
    {
     "data": {
      "text/plain": [
       "(82498, 4)"
      ]
     },
     "execution_count": 7,
     "metadata": {},
     "output_type": "execute_result"
    }
   ],
   "source": [
    "df.shape"
   ]
  },
  {
   "cell_type": "code",
   "execution_count": 11,
   "id": "a147b673",
   "metadata": {},
   "outputs": [],
   "source": [
    "import csv\n",
    "df.to_parquet(\"C:\\\\Users\\MSI\\\\Desktop\\\\clone_project\\\\subtitles.parquet\",engine = 'pyarrow',index = False)"
   ]
  }
 ],
 "metadata": {
  "kernelspec": {
   "display_name": "myenv2",
   "language": "python",
   "name": "myenv2"
  },
  "language_info": {
   "codemirror_mode": {
    "name": "ipython",
    "version": 3
   },
   "file_extension": ".py",
   "mimetype": "text/x-python",
   "name": "python",
   "nbconvert_exporter": "python",
   "pygments_lexer": "ipython3",
   "version": "3.10.9"
  }
 },
 "nbformat": 4,
 "nbformat_minor": 5
}
